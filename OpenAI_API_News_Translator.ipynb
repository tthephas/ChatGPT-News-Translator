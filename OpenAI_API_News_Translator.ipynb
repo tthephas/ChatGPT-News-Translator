{
 "cells": [
  {
   "cell_type": "code",
   "execution_count": 1,
   "id": "146f4c81",
   "metadata": {},
   "outputs": [
    {
     "name": "stdout",
     "output_type": "stream",
     "text": [
      "What country are you interested in for news?France\n"
     ]
    }
   ],
   "source": [
    "country = input(\"What country are you interested in for news?\")"
   ]
  },
  {
   "cell_type": "code",
   "execution_count": 2,
   "id": "8ee87621",
   "metadata": {},
   "outputs": [
    {
     "data": {
      "text/plain": [
       "'France'"
      ]
     },
     "execution_count": 2,
     "metadata": {},
     "output_type": "execute_result"
    }
   ],
   "source": [
    "country "
   ]
  },
  {
   "cell_type": "code",
   "execution_count": 3,
   "id": "a22ce025",
   "metadata": {},
   "outputs": [],
   "source": [
    "#SPAIN - el pais\n",
    "#FRANCE - le monde"
   ]
  },
  {
   "cell_type": "code",
   "execution_count": 4,
   "id": "79194eca",
   "metadata": {},
   "outputs": [],
   "source": [
    "country_newspapers = {\"Spain\":\"https//elpais.com/\",\n",
    "                      \"France\":\"https://www.lemonde.fr/\"}"
   ]
  },
  {
   "cell_type": "code",
   "execution_count": 5,
   "id": "d493b4a0",
   "metadata": {},
   "outputs": [],
   "source": [
    "import requests\n",
    "import bs4 "
   ]
  },
  {
   "cell_type": "code",
   "execution_count": 6,
   "id": "ce134672",
   "metadata": {},
   "outputs": [],
   "source": [
    "url = country_newspapers[country]"
   ]
  },
  {
   "cell_type": "code",
   "execution_count": 7,
   "id": "2189c07e",
   "metadata": {},
   "outputs": [],
   "source": [
    "result = requests.get(url)"
   ]
  },
  {
   "cell_type": "code",
   "execution_count": 8,
   "id": "3bf049a0",
   "metadata": {},
   "outputs": [],
   "source": [
    "tag = 'article__title-label'"
   ]
  },
  {
   "cell_type": "code",
   "execution_count": 9,
   "id": "247cfc5b",
   "metadata": {},
   "outputs": [],
   "source": [
    "soup = bs4.BeautifulSoup(result.text,'lxml')"
   ]
  },
  {
   "cell_type": "code",
   "execution_count": 10,
   "id": "4a6c98c5",
   "metadata": {},
   "outputs": [
    {
     "name": "stdout",
     "output_type": "stream",
     "text": [
      "Les entreprises alimentent l’inflation en augmentant leurs marges\n",
      "Dans le sillage de ChatGPT, la course à l’intelligence artificielle\n",
      "« Nous sommes encore très loin de l’économie de guerre »\n"
     ]
    }
   ],
   "source": [
    "for item in soup.select('.article__title')[:3]:\n",
    "    print(item.getText())"
   ]
  },
  {
   "cell_type": "code",
   "execution_count": 11,
   "id": "ce0414d1",
   "metadata": {},
   "outputs": [],
   "source": [
    "country_newspapers = {\"Spain\":(\"https://elpais.com/\",\".c_t\"),\n",
    "                      \"France\":(\"https://www.lemonde.fr/\",\".article__title\")}"
   ]
  },
  {
   "cell_type": "code",
   "execution_count": 12,
   "id": "123d45da",
   "metadata": {},
   "outputs": [],
   "source": [
    "def create_prompt():\n",
    "    country = input(\"What country would you like a news summary for? \")\n",
    "    \n",
    "    try:\n",
    "        url,tag = country_newspapers[country]\n",
    "    except:\n",
    "        print(\"Sorry, country not supported\")\n",
    "        return\n",
    "    \n",
    "    results = requests.get(url)\n",
    "    soup = bs4.BeautifulSoup(results.text,'lxml')\n",
    "    \n",
    "    country_headlines = ''\n",
    "    for item in soup.select(tag)[:3]:\n",
    "        country_headlines += item.getText()+'\\n'\n",
    "        \n",
    "    prompt = \"Detect the language of the news headlines below, then translate a summary of the headlines to English in a conversational tone.\\n\"\n",
    "    return prompt + country_headlines"
   ]
  },
  {
   "cell_type": "code",
   "execution_count": 27,
   "id": "e4ba2288",
   "metadata": {},
   "outputs": [
    {
     "name": "stdout",
     "output_type": "stream",
     "text": [
      "What country would you like a news summary for? France\n"
     ]
    }
   ],
   "source": [
    "prompt = create_prompt()"
   ]
  },
  {
   "cell_type": "code",
   "execution_count": 28,
   "id": "b2ebb005",
   "metadata": {},
   "outputs": [
    {
     "name": "stdout",
     "output_type": "stream",
     "text": [
      "Detect the language of the news headlines below, then translate a summary of the headlines to English in a conversational tone.\n",
      "Les entreprises alimentent l’inflation en augmentant leurs marges\n",
      "Dans le sillage de ChatGPT, la course à l’intelligence artificielle\n",
      "« Nous sommes encore très loin de l’économie de guerre »\n",
      "\n"
     ]
    }
   ],
   "source": [
    "print(prompt)"
   ]
  },
  {
   "cell_type": "code",
   "execution_count": 29,
   "id": "5b5d8465",
   "metadata": {},
   "outputs": [],
   "source": [
    "import os\n",
    "import openai\n"
   ]
  },
  {
   "cell_type": "code",
   "execution_count": 30,
   "id": "cb66713b",
   "metadata": {},
   "outputs": [],
   "source": [
    "openai.api_key = os.getenv(\"OPENAI_API_KEY\")"
   ]
  },
  {
   "cell_type": "code",
   "execution_count": 31,
   "id": "f1e4c31e",
   "metadata": {},
   "outputs": [],
   "source": [
    "response = openai.Completion.create(\n",
    "            model='text-davinci-003',\n",
    "            prompt=prompt,\n",
    "            max_tokens = 200,\n",
    "            temperature=0.1,\n",
    "            top_p=1\n",
    ")"
   ]
  },
  {
   "cell_type": "code",
   "execution_count": 32,
   "id": "cfede597",
   "metadata": {},
   "outputs": [
    {
     "name": "stdout",
     "output_type": "stream",
     "text": [
      "\n",
      "Language: French\n",
      "Translation: Companies are fueling inflation by increasing their margins. Following ChatGPT, there is a race to artificial intelligence. \"We are still very far from a war economy.\"\n"
     ]
    }
   ],
   "source": [
    "print(response['choices'][0]['text'])"
   ]
  },
  {
   "cell_type": "code",
   "execution_count": null,
   "id": "a737352b",
   "metadata": {},
   "outputs": [],
   "source": []
  }
 ],
 "metadata": {
  "kernelspec": {
   "display_name": "Python 3",
   "language": "python",
   "name": "python3"
  },
  "language_info": {
   "codemirror_mode": {
    "name": "ipython",
    "version": 3
   },
   "file_extension": ".py",
   "mimetype": "text/x-python",
   "name": "python",
   "nbconvert_exporter": "python",
   "pygments_lexer": "ipython3",
   "version": "3.8.8"
  }
 },
 "nbformat": 4,
 "nbformat_minor": 5
}
